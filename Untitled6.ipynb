{
 "cells": [
  {
   "cell_type": "code",
   "execution_count": 1,
   "id": "b4d36095-3546-47c9-84bb-c18165e4d57f",
   "metadata": {},
   "outputs": [],
   "source": [
    "                                          # TRAFFIC CHALLAN-Label\n",
    "\n",
    "\n",
    "\n",
    "\n",
    "#TYPE(TRAFFIC RULE BREAK)-label= COMBOBOX WITH OPTION( red light,helmet,license,seatbelt,PUC)\n",
    "#FINE=RS-label=ENTRY BOX - for append the fine value in entry box\n",
    "#Vehicle no-label=Entrybox=for enter the vehicle number. \n",
    "\n",
    "\n",
    "\n"
   ]
  },
  {
   "cell_type": "code",
   "execution_count": 2,
   "id": "219d0b75-e2e9-466c-8a68-1d4f559d4cb6",
   "metadata": {},
   "outputs": [
    {
     "name": "stdout",
     "output_type": "stream",
     "text": [
      "PUC: Fine RS.1200\n",
      "dwa\n"
     ]
    }
   ],
   "source": [
    "from tkinter import *\n",
    "from tkinter.ttk import Combobox\n",
    "tc=Tk()\n",
    "tc.geometry(\"600x600\")\n",
    "tc.maxsize(width=600,height=600)\n",
    "tc.title(\"TRAFFIC CHALLAN\")\n",
    "#icon or bg\n",
    "ic=PhotoImage(file=r\"C:\\Users\\KINGNICKS-DELL\\Downloads\\—Pngtree—black texture public welfare obeys_1044038.png\")\n",
    "tc.iconphoto(False,ic)\n",
    "bg=PhotoImage(file=r\"C:\\Users\\KINGNICKS-DELL\\Downloads\\ta.png\")\n",
    "l0=Label(tc,image=bg).place(x=0,y=0)\n",
    "#label\n",
    "l1=Label(text=\"TRAFFIC CHALLAN\",fg=\"black\",font=(\"ARIAL\",15)).place(x=250,y=0)\n",
    "l2=Label(text=\"Type(Traffic rule break\",fg=\"black\",font=(\"ARIAL\",12)).place(x=130,y=70)\n",
    "combo=Combobox(tc,value=[\"RedLight\",\" No-Helmet\",\"No-License\",\"No-Seatbelt\",\"PUC\",\"OverSpeeding\",\"Accident\"],width=20)\n",
    "combo.place(x=300,y=70)\n",
    "l3=Label(text=\"Vehicle No\",fg=\"black\",font=(\"ARIAL\",12)).place(x=130,y=120)\n",
    "#entry box for fine value show\n",
    "E1=Entry(bd=5)\n",
    "E1.place(x=300,y=120)\n",
    "#list box for showing display\n",
    "box=Listbox(tc,bd=5,width=50,height=10)\n",
    "box.place(x=130,y=160)\n",
    "\n",
    "#creating function\n",
    "\n",
    "def reset():\n",
    "    E1.delete(0,END)\n",
    "    box.delete(0,END)\n",
    "    combo.delete(0,END)\n",
    "def traffic():\n",
    "    vehicle=Entry.get(E1)\n",
    "    traffic=Entry.get(combo)\n",
    "    if traffic==\"RedLight\":\n",
    "      f=(\"You Break Red Light: Fine RS.200\")\n",
    "    elif traffic==\"NO-Helmet\":\n",
    "      f=(\"NO-Helmet: Fine RS.500\")\n",
    "    elif traffic==\"No-License\":\n",
    "      f=(\"No-License: Fine RS.1000\")\n",
    "    elif traffic==\"No-Seatbelt\":\n",
    "      f=(\"No-Seatbelt: Fine RS.1500\")\n",
    "    elif traffic==\"PUC\":\n",
    "      f=(\"PUC: Fine RS.1200\")\n",
    "    elif traffic==\"OverSpeeding\":\n",
    "      f=(\"Over Speeding: Fine RS.300\")\n",
    "    elif traffic==\"Accident\":\n",
    "      f=(\"Accident: Punishment of 7 Year Jail and 7 Lakh Fine\")\n",
    "    Listbox.insert(box,0,f)\n",
    "    print(f)\n",
    "    Listbox.insert(box,0,vehicle)\n",
    "    print(vehicle)\n",
    "B=Button(tc, text =\"Submit\",command = traffic,bg='yellow',bd=10,font=(\"Arial\",10)).place(x=190,y=350)\n",
    "c=Button(tc, text =\"Reset\",command = reset,bg='yellow',bd=10,font=(\"Arial\",10)).place(x=280,y=350)\n",
    "    \n",
    "    \n",
    "\n",
    "tc.mainloop()\n"
   ]
  },
  {
   "cell_type": "code",
   "execution_count": null,
   "id": "e109a3a6-e37c-4e82-9c95-460a59ad5810",
   "metadata": {},
   "outputs": [],
   "source": []
  },
  {
   "cell_type": "code",
   "execution_count": null,
   "id": "e228d6dd-5ac2-4bfc-a0a8-9b43d71958b7",
   "metadata": {},
   "outputs": [],
   "source": []
  }
 ],
 "metadata": {
  "kernelspec": {
   "display_name": "Python 3 (ipykernel)",
   "language": "python",
   "name": "python3"
  },
  "language_info": {
   "codemirror_mode": {
    "name": "ipython",
    "version": 3
   },
   "file_extension": ".py",
   "mimetype": "text/x-python",
   "name": "python",
   "nbconvert_exporter": "python",
   "pygments_lexer": "ipython3",
   "version": "3.11.5"
  }
 },
 "nbformat": 4,
 "nbformat_minor": 5
}
