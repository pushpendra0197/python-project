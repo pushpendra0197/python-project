{
 "cells": [
  {
   "cell_type": "code",
   "execution_count": 11,
   "id": "89f69d40-2bc9-4906-a803-95bbe5b6d843",
   "metadata": {},
   "outputs": [
    {
     "name": "stdout",
     "output_type": "stream",
     "text": [
      "3\n",
      "4\n",
      "5\n",
      "6\n",
      "7\n",
      "8\n",
      "9\n"
     ]
    }
   ],
   "source": [
    "from tkinter import *\n",
    "import tkinter \n",
    "import tkinter as ttk\n",
    "pr=tkinter.Tk()\n",
    "pr.geometry(\"600x600\")\n",
    "pr.minsize(width=300,height=400)\n",
    "pr.configure(bg=r\"red\")\n",
    "#Label\n",
    "l1=Label(pr,text=\"Prime Number or Non Prime number\",bg=\"white\",font=(\"Arial\",12),bd=5).place(x=160,y=0)\n",
    "l2=Label(pr,text=\"Enter number for Prime and Non prime\",bg=\"white\",bd=5).place(x=10,y=100)\n",
    "l3=Label(pr,text=\"Prime Numbers\",bg=\"white\",bd=5).place(x=10,y=150)\n",
    "l4=Label(pr,text=\" Non Prime number\",bg=\"white\",bd=5).place(x=10,y=200)\n",
    "e2=Label(pr,text=\"==\",bg=\"white\",bd=5,).place(x=240,y=100)\n",
    "e3=Label(pr,text=\"==\",bg=\"white\",bd=5).place(x=240,y=150)\n",
    "e4=Label(pr,text=\"==\",bg=\"white\",bd=5).place(x=240,y=200)\n",
    "#entry box\n",
    "E1=Entry(bd=5)\n",
    "E1.place(x=280,y=100)\n",
    "E2=Entry(bd=5,width=50)\n",
    "E2.place(x=280,y=150)\n",
    "E3=Entry(bd=5,width=50)\n",
    "E3.place(x=280,y=200)\n",
    "\n",
    "def reset():\n",
    "    E1.delete(0,END)\n",
    "    E2.delete(0,END)\n",
    "    E3.delete(0,END)\n",
    "\n",
    "\n",
    "def operation():\n",
    "    num=Entry.get(E1)\n",
    "    num=int(num)\n",
    "\n",
    "    for i in range(1,num):\n",
    "       for j in range(2,i):\n",
    "          if i%j==0:\n",
    "             Entry.insert(E3,0,i)\n",
    "             print(i) \n",
    "             break\n",
    "        \n",
    "          else :\n",
    "              Entry.insert(E2,0,i)\n",
    "              print(i)\n",
    "              break\n",
    "B1=Button(pr,text=\"submit\",bg=\"yellow\",command=operation,font=(\"arial\",12)).place(x=180,y=300)        \n",
    "B2=Button(pr,text=\"reset\",bg=\"yellow\",command=reset,font=(\"arial\",12)).place(x=250,y=300)  \n",
    "        \n",
    "pr.mainloop()"
   ]
  },
  {
   "cell_type": "code",
   "execution_count": null,
   "id": "d2d96ec2-7fd5-4631-985a-d2474ae81899",
   "metadata": {},
   "outputs": [],
   "source": []
  }
 ],
 "metadata": {
  "kernelspec": {
   "display_name": "Python 3 (ipykernel)",
   "language": "python",
   "name": "python3"
  },
  "language_info": {
   "codemirror_mode": {
    "name": "ipython",
    "version": 3
   },
   "file_extension": ".py",
   "mimetype": "text/x-python",
   "name": "python",
   "nbconvert_exporter": "python",
   "pygments_lexer": "ipython3",
   "version": "3.11.5"
  }
 },
 "nbformat": 4,
 "nbformat_minor": 5
}
