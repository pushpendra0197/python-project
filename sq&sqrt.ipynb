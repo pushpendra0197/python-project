{
 "cells": [
  {
   "cell_type": "code",
   "execution_count": 12,
   "id": "f28d45c7-dd76-4836-9f80-090b4a40ed3b",
   "metadata": {},
   "outputs": [],
   "source": [
    "#square and square root\n",
    "from tkinter import *\n",
    "import tkinter\n",
    "#for resize window\n",
    "cal=tkinter.Tk()\n",
    "cal.geometry(\"250x250\")\n",
    "cal.maxsize(width=250,height=500)\n",
    "#to give the name\n",
    "cal.title(\"SquareAndRoot\")\n",
    "#to edit the background\n",
    "cal.configure(bg=\"red\")\n",
    "#label\n",
    "l=Label(cal,text=\"SquareAndRoot\",fg=\"red\",font=('Arial',14)).place(x=70,y=1)\n",
    "l2=Label(cal,text=\"Enter Number\",fg=\"black\").place(x=1,y=40)\n",
    "l5=Label(cal,text=\"Answer\",fg=\"black\").place(x=10,y=100)\n",
    "#creatinh entry  box for enter the value\n",
    "E1=Entry(cal,bd=5)\n",
    "E1.place(x=90,y=35)\n",
    "E3=Entry(cal,bd=5)\n",
    "E3.place(x=90,y=100)\n",
    "\n",
    "\n",
    "def reset():\n",
    "   E1.delete(0, END)\n",
    "   E3.delete(0, END)\n",
    "def square():\n",
    "    num1=Entry.get(E1)\n",
    "    num1=int(num1)\n",
    "    square=num1**2\n",
    "    Entry.insert(E3,0,square)\n",
    "    print(square)\n",
    "def squareroot():\n",
    "    num1=Entry.get(E1)\n",
    "    num1=int(num1)\n",
    "    squareroot=num1**(1/2)\n",
    "    Entry.insert(E3,0,squareroot)\n",
    "    print(squareroot)\n",
    "B=Button(cal, text =\"square\",command = square,bg='yellow',bd=5).place(x=100,y=170)\n",
    "c=Button(cal, text =\"squareroot\",command = squareroot,bg='yellow',bd=5).place(x=10,y=170)\n",
    "d=Button(cal, text =\"reset\",command = reset,bg='yellow',bd=5).place(x=170,y=170)\n",
    "cal.mainloop()"
   ]
  },
  {
   "cell_type": "code",
   "execution_count": null,
   "id": "77e26bc6-8c46-46a8-88cd-b4d80cb2d8ce",
   "metadata": {},
   "outputs": [],
   "source": []
  }
 ],
 "metadata": {
  "kernelspec": {
   "display_name": "Python 3 (ipykernel)",
   "language": "python",
   "name": "python3"
  },
  "language_info": {
   "codemirror_mode": {
    "name": "ipython",
    "version": 3
   },
   "file_extension": ".py",
   "mimetype": "text/x-python",
   "name": "python",
   "nbconvert_exporter": "python",
   "pygments_lexer": "ipython3",
   "version": "3.11.5"
  }
 },
 "nbformat": 4,
 "nbformat_minor": 5
}
