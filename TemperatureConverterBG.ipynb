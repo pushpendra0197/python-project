{
 "cells": [
  {
   "cell_type": "code",
   "execution_count": 41,
   "id": "d9a4fe7a-1b25-4264-afcd-d2e1ae8fe6e4",
   "metadata": {},
   "outputs": [],
   "source": [
    "\n",
    "#temperature converter\n",
    "\n",
    "from tkinter import *\n",
    "import tkinter \n",
    "cv=tkinter.Tk()\n",
    "cv.geometry(\"300x300\")\n",
    "cv.maxsize(width=615,height=440)\n",
    "cv.title(\"coverter\")\n",
    "cv.configure(bg=\"red\")\n",
    "#lables\n",
    "ti=PhotoImage(file=r\"C:\\Users\\KINGNICKS-DELL\\Downloads\\temperature-2707.png\")\n",
    "l0=Label(cv,image=ti).place(x=0,y=0)\n",
    "l1=Label(cv,text=\"Celsius-Fahrenheit-Celsius\",bg=\"white\",fg=\"red\",font=('Arial',15)).place(x=150,y=5)\n",
    "l2=Label(cv,text=\"input for fahrenheit conversion\",bg=\"white\",font=('Arial',9)).place(x=3,y=100)\n",
    "l3=Label(cv,text=\"input for celsius conversion\",bg=\"white\",font=('Arial',10)).place(x=3,y=150)\n",
    "l4=Label(cv,text=\"=\",bg=\"white\").place(x=180,y=100)\n",
    "l5=Label(cv,text=\"=\",bg=\"white\").place(x=180,y=150)\n",
    "l6=Label(cv,text=\"conversion\",bg=\"white\",font=('Arial',12)).place(x=3,y=200)\n",
    "l6=Label(cv,text=\"=\",bg=\"white\").place(x=180,y=200)\n",
    "#entry boxes\n",
    "E1=Entry(cv,bd=5)\n",
    "E1.place(x=210,y=95)\n",
    "E2=Entry(cv,bd=5)\n",
    "E2.place(x=210,y=145)\n",
    "E3=Entry(cv,bd=5)\n",
    "E3.place(x=210,y=200)\n",
    "\n",
    "def reset():\n",
    "    E1.delete(0,END)\n",
    "    E2.delete(0,END)\n",
    "    E3.delete(0,END)\n",
    "def fahrenheit():\n",
    "    num=Entry.get(E1)\n",
    "    num=int(num)\n",
    "    fahrenheit=(num*1.8)+32\n",
    "    Entry.insert(E3,0,fahrenheit)\n",
    "def celsius():\n",
    "    num=Entry.get(E2)\n",
    "    num=int(num)\n",
    "    celsius=(num-32)*5/9\n",
    "    Entry.insert(E3,0,celsius)\n",
    "\n",
    "button1=Button(cv,text=\"Submit for FH\",command=fahrenheit,bg=\"yellow\").place(x=80,y=250)\n",
    "button2=Button(cv,text=\"Submit for Cel\",command=celsius,bg=\"yellow\").place(x=200,y=250)\n",
    "button1=Button(cv,text=\"reset\",command=reset,bg=\"yellow\").place(x=300,y=250)\n",
    "cv.mainloop()\n",
    " "
   ]
  },
  {
   "cell_type": "code",
   "execution_count": null,
   "id": "193e98d0-0443-4a6b-b9a6-16552fc770c7",
   "metadata": {},
   "outputs": [],
   "source": []
  },
  {
   "cell_type": "code",
   "execution_count": null,
   "id": "15752676-b583-471c-aa1f-6f98592dfdf1",
   "metadata": {},
   "outputs": [],
   "source": []
  }
 ],
 "metadata": {
  "kernelspec": {
   "display_name": "Python 3 (ipykernel)",
   "language": "python",
   "name": "python3"
  },
  "language_info": {
   "codemirror_mode": {
    "name": "ipython",
    "version": 3
   },
   "file_extension": ".py",
   "mimetype": "text/x-python",
   "name": "python",
   "nbconvert_exporter": "python",
   "pygments_lexer": "ipython3",
   "version": "3.11.5"
  }
 },
 "nbformat": 4,
 "nbformat_minor": 5
}
