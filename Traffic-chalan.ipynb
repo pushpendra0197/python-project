{
 "cells": [
  {
   "cell_type": "code",
   "execution_count": null,
   "id": "359d96cb-8ace-4087-afc8-a992c8ba60b2",
   "metadata": {},
   "outputs": [
    {
     "name": "stdout",
     "output_type": "stream",
     "text": [
      "NO-Helmet: Fine RS.500\n",
      "MP50C1234\n"
     ]
    }
   ],
   "source": [
    "from tkinter import *\n",
    "from tkinter.ttk import Combobox\n",
    "tc=Tk()\n",
    "tc.geometry(\"600x600\")\n",
    "tc.maxsize(width=600,height=600)\n",
    "tc.title(\"TRAFFIC CHALLAN\")\n",
    "#icon or bgic=PhotoImage(file=r\"C:\\Users\\KINGNICKS-DELL\\Downloads\\r.jpg\")\n",
    "ic=PhotoImage(file=r\"C:\\Users\\KINGNICKS-DELL\\Downloads\\—Pngtree—black texture public welfare obeys_1044038.png\")\n",
    "tc.iconphoto(False,ic)\n",
    "bg=PhotoImage(file=r\"C:\\Users\\KINGNICKS-DELL\\Downloads\\ta.png\")\n",
    "l0=Label(tc,image=bg).place(x=0,y=0)\n",
    "#label\n",
    "l1=Label(text=\"TRAFFIC CHALLAN\",fg=\"black\",font=(\"ARIAL\",15)).place(x=250,y=0)\n",
    "l2=Label(text=\"Type(Traffic rule break\",fg=\"black\",font=(\"ARIAL\",12)).place(x=130,y=70)\n",
    "combo=Combobox(tc,value=[\"RedLight\",\"No-Helmet\",\"No-License\",\"No-Seatbelt\",\"PUC\",\"OverSpeeding\",\"Accident\"],width=20)\n",
    "combo.place(x=300,y=70)\n",
    "l3=Label(text=\"Vehicle No\",fg=\"black\",font=(\"ARIAL\",12)).place(x=130,y=120)\n",
    "#entry box for fine value show\n",
    "E1=Entry(bd=5)\n",
    "E1.place(x=300,y=120)\n",
    "#list box for showing display\n",
    "box=Listbox(tc,bd=5,width=50,height=10)\n",
    "box.place(x=130,y=160)\n",
    "\n",
    "#creating function\n",
    "\n",
    "def reset():\n",
    "    E1.delete(0,END)\n",
    "    box.delete(0,END)\n",
    "    combo.delete(0,END)\n",
    "def traffic():\n",
    "    vehicle=Entry.get(E1)\n",
    "    traffic=Entry.get(combo)\n",
    "    if traffic==\"RedLight\":\n",
    "      f=(\"You Break Red Light: Fine RS.200\")\n",
    "    elif traffic==\"No-Helmet\":\n",
    "      f=(\"NO-Helmet: Fine RS.500\")\n",
    "    elif traffic==\"No-License\":\n",
    "      f=(\"No-License: Fine RS.1000\")\n",
    "    elif traffic==\"No-Seatbelt\":\n",
    "      f=(\"No-Seatbelt: Fine RS.1500\")\n",
    "    elif traffic==\"PUC\":\n",
    "      f=(\"PUC: Fine RS.1200\")\n",
    "    elif traffic==\"OverSpeeding\":\n",
    "      f=(\"Over Speeding: Fine RS.300\")\n",
    "    elif traffic==\"Accident\":\n",
    "      f=(\"Accident: Punishment of 7 Year Jail and 7 Lakh Fine\")\n",
    "    Listbox.insert(box,0,f)\n",
    "    print(f)\n",
    "    Listbox.insert(box,0,vehicle)\n",
    "    print(vehicle)\n",
    "B=Button(tc, text =\"Submit\",command = traffic,bg='yellow',bd=10,font=(\"Arial\",10)).place(x=190,y=350)\n",
    "c=Button(tc, text =\"Reset\",command = reset,bg='yellow',bd=10,font=(\"Arial\",10)).place(x=280,y=350)\n",
    "    \n",
    "    \n",
    "\n",
    "tc.mainloop()\n",
    " \n"
   ]
  },
  {
   "cell_type": "code",
   "execution_count": null,
   "id": "678cc843-96ce-4de5-99a5-8f2737b605de",
   "metadata": {},
   "outputs": [],
   "source": []
  }
 ],
 "metadata": {
  "kernelspec": {
   "display_name": "Python 3 (ipykernel)",
   "language": "python",
   "name": "python3"
  },
  "language_info": {
   "codemirror_mode": {
    "name": "ipython",
    "version": 3
   },
   "file_extension": ".py",
   "mimetype": "text/x-python",
   "name": "python",
   "nbconvert_exporter": "python",
   "pygments_lexer": "ipython3",
   "version": "3.12.4"
  }
 },
 "nbformat": 4,
 "nbformat_minor": 5
}
