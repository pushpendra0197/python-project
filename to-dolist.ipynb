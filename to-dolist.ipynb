{
 "cells": [
  {
   "cell_type": "code",
   "execution_count": 6,
   "id": "a660b77d-6233-450c-b467-07c0b5ea0723",
   "metadata": {},
   "outputs": [],
   "source": [
    "\n",
    "from tkinter import *\n",
    "tdl=Tk()\n",
    "tdl.geometry(\"600x600\")\n",
    "tdl.maxsize(width=600,height=600)\n",
    "tdl.configure(bg=\"AntiqueWhite\")\n",
    "#label and function\n",
    "l1=Label(text=\"TO-DO LIST\",bg=\"AntiqueWhite\",fg=\"Red\",font=(\"timesnewroman\",20)).place(x=200,y=0)\n",
    "l2=Label(text=\" Enter Task\",bg=\"AntiqueWhite\",fg=\"black\",font=(\"timesnewroman\",13)).place(x=20,y=120)\n",
    "e1=Entry(bd=5,width=30)\n",
    "e1.place(x=20,y=150)\n",
    "listbox=Listbox(bd=5,width=20,height=15,font=(\"timesnewroman\",15))\n",
    "listbox.place(x=280,y=100)\n",
    "#function\n",
    "def addtask():\n",
    "    data=Entry.get(e1)\n",
    "    Listbox.insert(listbox,1,data)\n",
    "    print(data)\n",
    "def clearall():\n",
    "    e1.delete(0,END)\n",
    "    listbox.delete(0,END)\n",
    "def clearrecent():\n",
    "    listbox.delete(1,END)\n",
    "    \n",
    "b1=Button(text=\"Enter\",bd=5,bg=\"red\",command=addtask,width=7,height=1).place(x=100,y=200)\n",
    "b1=Button(text=\"Clear Task\",bd=5,bg=\"yellow\",command=clearall,width=7,height=1).place(x=100,y=300)\n",
    "b1=Button(text=\"Clear Recent Task \",bd=5,bg=\"yellow\",command=clearrecent,width=15,height=1).place(x=70,y=250)\n",
    "\n",
    "tdl.mainloop()"
   ]
  },
  {
   "cell_type": "code",
   "execution_count": null,
   "id": "3c08d92f-d6dc-4680-8772-41ac411bd825",
   "metadata": {},
   "outputs": [],
   "source": []
  },
  {
   "cell_type": "code",
   "execution_count": null,
   "id": "967ee4bd-5731-41d6-a365-3dbf142ece60",
   "metadata": {},
   "outputs": [],
   "source": []
  }
 ],
 "metadata": {
  "kernelspec": {
   "display_name": "Python 3 (ipykernel)",
   "language": "python",
   "name": "python3"
  },
  "language_info": {
   "codemirror_mode": {
    "name": "ipython",
    "version": 3
   },
   "file_extension": ".py",
   "mimetype": "text/x-python",
   "name": "python",
   "nbconvert_exporter": "python",
   "pygments_lexer": "ipython3",
   "version": "3.11.5"
  }
 },
 "nbformat": 4,
 "nbformat_minor": 5
}
