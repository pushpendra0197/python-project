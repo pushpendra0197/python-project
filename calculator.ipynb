{
 "cells": [
  {
   "cell_type": "code",
   "execution_count": null,
   "id": "58e744e7-3d3e-462a-98a3-0f4289d7c5ba",
   "metadata": {},
   "outputs": [],
   "source": [
    "#calculator\n",
    "from tkinter import *\n",
    "import tkinter\n",
    "#for resize window\n",
    "cal=tkinter.Tk()\n",
    "cal.geometry(\"300x300\")\n",
    "cal.maxsize(width=600,height=600)\n",
    "#to give the name\n",
    "cal.title(\"Calculator\")\n",
    "#to edit the background\n",
    "cal.configure(bg=\"red\")\n",
    "#label\n",
    "l=Label(cal,text=\"My Calculator\",fg=\"red\",font=('Arial',14)).place(x=70,y=1)\n",
    "l2=Label(cal,text=\"First Number\",fg=\"black\").place(x=1,y=40)\n",
    "l3=Label(cal,text=\"Second Number\",fg=\"black\").place(x=1,y=70)\n",
    "l4=Label(cal,text=\"Operator\",fg=\"black\").place(x=1,y=100)\n",
    "l5=Label(cal,text=\"Answer\",fg=\"black\").place(x=1,y=130)\n",
    "l6=Label(cal,text=\"Operator= +,-,*,/\",fg=\"black\",font=('Arial',10)).place(x=70,y=220)\n",
    "#creatinh entry  box for enter the value\n",
    "E1=Entry(cal,bd=5)\n",
    "E1.place(x=90,y=35)\n",
    "E2=Entry(cal,bd=5)\n",
    "E2.place(x=100,y=65)\n",
    "E3=Entry(cal,bd=5)\n",
    "E3.place(x=90,y=100)\n",
    "E4=Entry(cal,bd=5)\n",
    "E4.place(x=90,y=130)\n",
    "\n",
    "def reset():\n",
    "   E1.delete(0, END)\n",
    "   E2.delete(0, END)\n",
    "   E3.delete(0, END)\n",
    "   E4.delete(0, END)\n",
    "\n",
    "def operation():\n",
    "    num1=Entry.get(E1)\n",
    "    num2=Entry.get(E2)\n",
    "    operator=Entry.get(E3)\n",
    "    num1=int(num1)\n",
    "    num2=int(num2) \n",
    "    if operator ==\"+\":\n",
    "        answer=num1+num2\n",
    "    elif operator ==\"-\":\n",
    "        answer=num1-num2\n",
    "    elif operator==\"*\":\n",
    "        answer=num1*num2\n",
    "    elif operator==\"/\":\n",
    "        answer=num1/num2\n",
    "    elif operator==\"/\":\n",
    "        answer=num1/num2\n",
    "    Entry.insert(E4,0,answer)\n",
    "    print(answer)\n",
    "B=Button(cal, text =\"Submit\",command = operation,bg='yellow',bd=5).place(x=50,y=170)\n",
    "c=Button(cal, text =\"reset\",command = reset,bg='yellow',bd=5).place(x=150,y=170)\n",
    "cal.mainloop()"
   ]
  },
  {
   "cell_type": "code",
   "execution_count": null,
   "id": "fff4ace1-51a5-4200-b5dd-25e24b2c18b2",
   "metadata": {},
   "outputs": [],
   "source": []
  }
 ],
 "metadata": {
  "kernelspec": {
   "display_name": "Python 3 (ipykernel)",
   "language": "python",
   "name": "python3"
  },
  "language_info": {
   "codemirror_mode": {
    "name": "ipython",
    "version": 3
   },
   "file_extension": ".py",
   "mimetype": "text/x-python",
   "name": "python",
   "nbconvert_exporter": "python",
   "pygments_lexer": "ipython3",
   "version": "3.11.5"
  }
 },
 "nbformat": 4,
 "nbformat_minor": 5
}
